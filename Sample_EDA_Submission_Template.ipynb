{
  "nbformat": 4,
  "nbformat_minor": 0,
  "metadata": {
    "colab": {
      "private_outputs": true,
      "provenance": [],
      "collapsed_sections": [
        "mDgbUHAGgjLW",
        "1M8mcRywphqQ",
        "tgIPom80phqQ",
        "2cELzS2fp1cl",
        "3MPXvC8up1cl",
        "UV0SzAkaZNRQ",
        "YPEH6qLeZNRQ",
        "EXh0U9oCveiU",
        "22aHeOlLveiV",
        "8G2x9gOozGDZ"
      ]
    },
    "kernelspec": {
      "name": "python3",
      "display_name": "Python 3"
    },
    "language_info": {
      "name": "python"
    }
  },
  "cells": [
    {
      "cell_type": "markdown",
      "source": [
        "# **Project Name**    -\n",
        "\n"
      ],
      "metadata": {
        "id": "vncDsAP0Gaoa"
      }
    },
    {
      "cell_type": "markdown",
      "source": [
        "##### **Project Type**    - EDA/Dasboard\n",
        "##### **Contribution**    - Akshay Vadnala\n"
      ],
      "metadata": {
        "id": "beRrZCGUAJYm"
      }
    },
    {
      "cell_type": "markdown",
      "source": [
        "# **Project Summary -**"
      ],
      "metadata": {
        "id": "FJNUwmbgGyua"
      }
    },
    {
      "cell_type": "markdown",
      "source": [
        "The Bellabeat Fitness Data Analytics case study explores the growth potential for Bellabeat, a company that specializes in health-focused technology products designed for women. Founded in 2013, Bellabeat has quickly become a leader in the wellness technology market, offering beautifully designed smart devices that provide insights into various aspects of health, including activity levels, sleep patterns, and reproductive health.\n",
        "\n",
        "As the company continues to expand, the marketing analytics team has been tasked with analyzing consumer data collected from Bellabeat's smart devices. The goal is to uncover insights that can inform marketing strategies and enhance product offerings. The analysis employs tools such as SQL for data cleaning and insights generation, Power BI for creating interactive dashboards, and Python for deeper data analysis and visualization.\n",
        "\n",
        "Understanding consumer behavior is critical in the wellness technology sector. By examining fitness data, the team aims to identify trends related to device usage, popular features, and correlations between usage and health outcomes. These insights will help tailor marketing strategies that resonate with the target audience, particularly women seeking technology-driven health solutions.\n",
        "\n",
        "The case study emphasizes the importance of aligning marketing efforts with Bellabeat's mission to empower women. Recommendations may include creating educational content about the benefits of using Bellabeat products, leveraging social media to build a wellness community, and collaborating with health influencers to reach a broader audience.\n",
        "\n",
        "Ultimately, the Bellabeat Fitness Data Analytics case study serves as a roadmap for how data-driven insights can shape marketing strategies in the wellness technology sector. By focusing on consumer behavior and utilizing advanced analytics tools, Bellabeat can solidify its position as a market leader and continue to empower women through innovative health technology."
      ],
      "metadata": {
        "id": "F6v_1wHtG2nS"
      }
    },
    {
      "cell_type": "markdown",
      "source": [
        "# **GitHub Link -**"
      ],
      "metadata": {
        "id": "w6K7xa23Elo4"
      }
    },
    {
      "cell_type": "markdown",
      "source": [
        "https://github.com/akshay24032002/StarvaFitness.git"
      ],
      "metadata": {
        "id": "h1o69JH3Eqqn"
      }
    },
    {
      "cell_type": "markdown",
      "source": [
        "# **Problem Statement**\n"
      ],
      "metadata": {
        "id": "yQaldy8SH6Dl"
      }
    },
    {
      "cell_type": "markdown",
      "source": [
        "\"Bellabeat, a leading manufacturer of health-focused technology products for women, is facing challenges in effectively utilizing consumer data collected from its smart devices to drive marketing strategies and enhance product offerings. Despite having access to valuable fitness data, the company lacks a comprehensive understanding of user behavior and preferences, which hinders its ability to tailor marketing efforts and optimize customer engagement. As a result, Bellabeat risks missing growth opportunities in a competitive wellness technology market, where understanding consumer needs is crucial for success.\""
      ],
      "metadata": {
        "id": "DpeJGUA3kjGy"
      }
    },
    {
      "cell_type": "markdown",
      "source": [
        "#### **Define Your Business Objective?**"
      ],
      "metadata": {
        "id": "PH-0ReGfmX4f"
      }
    },
    {
      "cell_type": "markdown",
      "source": [
        "Objective: \"Increase sales of the Bellabeat fitness tracker by 20% within the next quarter by implementing targeted social media marketing campaigns and enhancing customer engagement through personalized email marketing.\"\n",
        "\n",
        "Breakdown of the Objective:\n",
        "\n",
        "• Specific: The focus is on increasing sales of a specific product (the fitness tracker).\n",
        "\n",
        "• Measurable: The goal is quantifiable (20% increase).\n",
        "\n",
        "• Achievable: The objective considers current market conditions and marketing capabilities.\n",
        "\n",
        "• Relevant: It aligns with Bellabeat's mission to empower women through health technology.\n",
        "\n",
        "• Time-bound: A clear deadline is set (within the next quarter).\n",
        "\n",
        "By defining this objective, Bellabeat can effectively guide its marketing strategies and measure success, ensuring that efforts are aligned with the company's overall mission and growth goals."
      ],
      "metadata": {
        "id": "PhDvGCAqmjP1"
      }
    },
    {
      "cell_type": "markdown",
      "source": [
        "# **General Guidelines** : -  "
      ],
      "metadata": {
        "id": "mDgbUHAGgjLW"
      }
    },
    {
      "cell_type": "markdown",
      "source": [
        "1.   Well-structured, formatted, and commented code is required.\n",
        "2.   Exception Handling, Production Grade Code & Deployment Ready Code will be a plus. Those students will be awarded some additional credits.\n",
        "     \n",
        "     The additional credits will have advantages over other students during Star Student selection.\n",
        "       \n",
        "             [ Note: - Deployment Ready Code is defined as, the whole .ipynb notebook should be executable in one go\n",
        "                       without a single error logged. ]\n",
        "\n",
        "3.   Each and every logic should have proper comments.\n",
        "4. You may add as many number of charts you want. Make Sure for each and every chart the following format should be answered.\n",
        "        \n",
        "\n",
        "```\n",
        "# Chart visualization code\n",
        "```\n",
        "            \n",
        "\n",
        "*   Why did you pick the specific chart?\n",
        "*   What is/are the insight(s) found from the chart?\n",
        "* Will the gained insights help creating a positive business impact?\n",
        "Are there any insights that lead to negative growth? Justify with specific reason.\n",
        "\n",
        "5. You have to create at least 20 logical & meaningful charts having important insights.\n",
        "\n",
        "\n",
        "[ Hints : - Do the Vizualization in  a structured way while following \"UBM\" Rule.\n",
        "\n",
        "U - Univariate Analysis,\n",
        "\n",
        "B - Bivariate Analysis (Numerical - Categorical, Numerical - Numerical, Categorical - Categorical)\n",
        "\n",
        "M - Multivariate Analysis\n",
        " ]\n",
        "\n",
        "\n",
        "\n"
      ],
      "metadata": {
        "id": "ZrxVaUj-hHfC"
      }
    },
    {
      "cell_type": "markdown",
      "source": [
        "# ***Let's Begin !***"
      ],
      "metadata": {
        "id": "O_i_v8NEhb9l"
      }
    },
    {
      "cell_type": "markdown",
      "source": [
        "## ***1. Know Your Data***"
      ],
      "metadata": {
        "id": "HhfV-JJviCcP"
      }
    },
    {
      "cell_type": "markdown",
      "source": [
        "### Import Libraries"
      ],
      "metadata": {
        "id": "Y3lxredqlCYt"
      }
    },
    {
      "cell_type": "code",
      "source": [
        "# Import Libraries\n",
        "import pandas as pd\n",
        "import numpy as np\n",
        "import matplotlib.pyplot as plt\n",
        "import seaborn as sns\n",
        "import matplotlib.dates as mdates\n",
        "from datetime import datetime, timedelta\n",
        "import warnings\n",
        "warnings.filterwarnings('ignore')"
      ],
      "metadata": {
        "id": "M8Vqi-pPk-HR"
      },
      "execution_count": null,
      "outputs": []
    },
    {
      "cell_type": "markdown",
      "source": [
        "### Dataset Loading"
      ],
      "metadata": {
        "id": "3RnN4peoiCZX"
      }
    },
    {
      "cell_type": "code",
      "source": [
        "# Load Dataset\n",
        "from google.colab import files\n",
        "uploaded = files.upload()\n",
        "\n",
        "from google.colab import drive\n",
        "drive.mount('/content/drive')\n",
        "\n",
        "dailyActivity = pd.read_csv('/content/drive/MyDrive/FitnessData/dailyActivity_merged.csv')\n",
        "dailyCalories = pd.read_csv('/content/drive/MyDrive/FitnessData/dailyCalories_merged.csv')\n",
        "dailyIntensities = pd.read_csv('/content/drive/MyDrive/FitnessData/dailyIntensities_merged.csv')\n",
        "dailySteps = pd.read_csv('/content/drive/MyDrive/FitnessData/dailySteps_merged.csv')\n",
        "heartrateSeconds = pd.read_csv('/content/drive/MyDrive/FitnessData/heartrate_seconds_merged.csv')\n",
        "hourlyCalories = pd.read_csv('/content/drive/MyDrive/FitnessData/hourlyCalories_merged.csv')\n",
        "hourlyIntensities = pd.read_csv('/content/drive/MyDrive/FitnessData/hourlyIntensities_merged.csv')\n",
        "hourlySteps = pd.read_csv('/content/drive/MyDrive/FitnessData/hourlySteps_merged.csv')\n",
        "sleepDay = pd.read_csv('/content/drive/MyDrive/FitnessData/sleepDay_merged.csv')\n",
        "weightLogInfo = pd.read_csv('/content/drive/MyDrive/FitnessData/weightLogInfo_merged.csv')"
      ],
      "metadata": {
        "id": "4CkvbW_SlZ_R"
      },
      "execution_count": null,
      "outputs": []
    },
    {
      "cell_type": "markdown",
      "source": [
        "### Dataset First View"
      ],
      "metadata": {
        "id": "x71ZqKXriCWQ"
      }
    },
    {
      "cell_type": "code",
      "source": [
        "# Dataset First Look\n",
        "columns = {\n",
        "    'dailyActivity': dailyActivity,\n",
        "    'dailyCalories': dailyCalories,\n",
        "    'dailyIntensities': dailyIntensities,\n",
        "    'dailySteps': dailySteps,\n",
        "    'heartrateSeconds': heartrateSeconds,\n",
        "    'hourlyCalories': hourlyCalories,\n",
        "    'hourlyIntensities': hourlyIntensities,\n",
        "    'hourlySteps': hourlySteps,\n",
        "    'sleepDay': sleepDay,\n",
        "    'weightLogInfo': weightLogInfo\n",
        "}\n",
        "\n",
        "for name, df in columns.items():\n",
        "    print(f\"\\n📊 --- {name} ---\")\n",
        "    display(df.head())"
      ],
      "metadata": {
        "id": "LWNFOSvLl09H"
      },
      "execution_count": null,
      "outputs": []
    },
    {
      "cell_type": "markdown",
      "source": [
        "### Dataset Information"
      ],
      "metadata": {
        "id": "JlHwYmJAmNHm"
      }
    },
    {
      "cell_type": "code",
      "source": [
        "# Dataset Info\n",
        "for name, df in columns.items():\n",
        "    print(f\"\\n📊 --- {name} ---\")\n",
        "    display(df.info())"
      ],
      "metadata": {
        "id": "e9hRXRi6meOf"
      },
      "execution_count": null,
      "outputs": []
    },
    {
      "cell_type": "code",
      "source": [
        "for name, df in columns.items():\n",
        "    if 'Id' in df.columns:\n",
        "        df['Id'] = df['Id'].astype(str)"
      ],
      "metadata": {
        "id": "3f8JdOoESWIm"
      },
      "execution_count": null,
      "outputs": []
    },
    {
      "cell_type": "markdown",
      "source": [
        "#### Duplicate Values"
      ],
      "metadata": {
        "id": "35m5QtbWiB9F"
      }
    },
    {
      "cell_type": "code",
      "source": [
        "# Dataset Duplicate Value Count\n",
        "for name, df in columns.items():\n",
        "    print(f\"\\n--- {name} ---\")\n",
        "    print(f\"Duplicate Values: {df.duplicated().sum()}\")"
      ],
      "metadata": {
        "id": "1sLdpKYkmox0"
      },
      "execution_count": null,
      "outputs": []
    },
    {
      "cell_type": "markdown",
      "source": [
        "#### Missing Values/Null Values"
      ],
      "metadata": {
        "id": "PoPl-ycgm1ru"
      }
    },
    {
      "cell_type": "code",
      "source": [
        "# Missing Values/Null Values Count\n",
        "for name, df in columns.items():\n",
        "    print(f\"\\n--- {name} ---\")\n",
        "    print(df.isnull().sum())"
      ],
      "metadata": {
        "id": "GgHWkxvamxVg"
      },
      "execution_count": null,
      "outputs": []
    },
    {
      "cell_type": "markdown",
      "source": [
        "### What did you know about your dataset?"
      ],
      "metadata": {
        "id": "H0kj-8xxnORC"
      }
    },
    {
      "cell_type": "markdown",
      "source": [
        "The dataset contains daily activity and health tracking information collected from Fitbit devices. It consists of 10 key variables that help understand a user's lifestyle, including physical activity, calorie expenditure, and sleep patterns.\n",
        "\n",
        "**Activity Day**\n",
        "\n",
        "The specific date of the recorded activity (in YYYY-MM-DD format).\n",
        "\n",
        "**Total Steps**\n",
        "\n",
        "Total number of steps taken in a day.\n",
        "\n",
        "**Total Distance**\n",
        "\n",
        "Total distance (in miles or kilometers) traveled in a day.\n",
        "\n",
        "**Very Active Minutes**\n",
        "\n",
        "Total minutes spent doing high-intensity activities.\n",
        "\n",
        "**Fairly Active Minutes**\n",
        "\n",
        "Total minutes spent doing moderate-intensity activities.\n",
        "\n",
        "**Lightly Active Minutes**\n",
        "\n",
        "Total minutes spent doing light-intensity activities like casual walking.\n",
        "\n",
        "**Sedentary Minutes**\n",
        "\n",
        "Total time spent inactive or sedentary during the day.\n",
        "\n",
        "**Calories Burned**\n",
        "\n",
        "Total calories burned throughout the day based on activity and basal rate.\n",
        "\n",
        "**Total Minutes Asleep**\n",
        "\n",
        "Total duration (in minutes) a person actually slept.\n",
        "\n",
        "**Total Time in Bed**\n",
        "\n",
        "The total time (in minutes) the user spent in bed, including awake time."
      ],
      "metadata": {
        "id": "gfoNAAC-nUe_"
      }
    },
    {
      "cell_type": "markdown",
      "source": [
        "## ***2. Understanding Your Variables***"
      ],
      "metadata": {
        "id": "nA9Y7ga8ng1Z"
      }
    },
    {
      "cell_type": "code",
      "source": [
        "# Dataset Columns\n",
        "for name, df in columns.items():\n",
        "    print(f\"\\n--- {name} ---\")\n",
        "    print(df.columns)"
      ],
      "metadata": {
        "id": "j7xfkqrt5Ag5"
      },
      "execution_count": null,
      "outputs": []
    },
    {
      "cell_type": "code",
      "source": [
        "# Dataset Describe\n",
        "for name, df in columns.items():\n",
        "    print(f\"\\n--- {name} ---\")\n",
        "    display(df.describe())"
      ],
      "metadata": {
        "id": "DnOaZdaE5Q5t"
      },
      "execution_count": null,
      "outputs": []
    },
    {
      "cell_type": "markdown",
      "source": [
        "### Variables Description"
      ],
      "metadata": {
        "id": "PBTbrJXOngz2"
      }
    },
    {
      "cell_type": "markdown",
      "source": [
        "\n",
        "**Activity Day**\n",
        "\n",
        "The specific date of the recorded activity (in YYYY-MM-DD format).\n",
        "\n",
        "**Total Steps**\n",
        "\n",
        "Total number of steps taken in a day.\n",
        "\n",
        "**Total Distance**\n",
        "\n",
        "Total distance (in miles or kilometers) traveled in a day.\n",
        "\n",
        "**Very Active Minutes**\n",
        "\n",
        "Total minutes spent doing high-intensity activities.\n",
        "\n",
        "**Fairly Active Minutes**\n",
        "\n",
        "Total minutes spent doing moderate-intensity activities.\n",
        "\n",
        "**Lightly Active Minutes**\n",
        "\n",
        "Total minutes spent doing light-intensity activities like casual walking.\n",
        "\n",
        "**Sedentary Minutes**\n",
        "\n",
        "Total time spent inactive or sedentary during the day.\n",
        "\n",
        "**Calories Burned**\n",
        "\n",
        "Total calories burned throughout the day based on activity and basal rate.\n",
        "\n",
        "**Total Minutes Asleep**\n",
        "\n",
        "Total duration (in minutes) a person actually slept.\n",
        "\n",
        "**Total Time in Bed**\n",
        "\n",
        "The total time (in minutes) the user spent in bed, including awake time."
      ],
      "metadata": {
        "id": "aJV4KIxSnxay"
      }
    },
    {
      "cell_type": "markdown",
      "source": [
        "### Check Unique Values for each variable."
      ],
      "metadata": {
        "id": "u3PMJOP6ngxN"
      }
    },
    {
      "cell_type": "code",
      "source": [
        "# Check Unique Values for each variable.\n",
        "for name, df in columns.items():\n",
        "    print(f\"\\n--- {name} ---\")"
      ],
      "metadata": {
        "id": "zms12Yq5n-jE"
      },
      "execution_count": null,
      "outputs": []
    },
    {
      "cell_type": "markdown",
      "source": [
        "## 3. ***Data Wrangling***"
      ],
      "metadata": {
        "id": "dauF4eBmngu3"
      }
    },
    {
      "cell_type": "markdown",
      "source": [
        "### Data Wrangling Code"
      ],
      "metadata": {
        "id": "bKJF3rekwFvQ"
      }
    },
    {
      "cell_type": "code",
      "source": [
        "weightLogInfo = weightLogInfo.drop('Fat', axis=1)\n",
        "sleepDay.drop_duplicates(inplace=True)\n",
        "dailyActivity.rename(columns={'ActivityDate': 'ActivityDay'}, inplace=True)"
      ],
      "metadata": {
        "id": "4Akd9qFw2SXo"
      },
      "execution_count": null,
      "outputs": []
    },
    {
      "cell_type": "code",
      "source": [
        "# converting Date columns in Data sets to Data type\n",
        "\n",
        "dailyActivity['ActivityDay']=pd.to_datetime(dailyActivity['ActivityDay'])\n",
        "dailyCalories['ActivityDay']=pd.to_datetime(dailyCalories['ActivityDay'])\n",
        "dailyIntensities['ActivityDay']=pd.to_datetime(dailyIntensities['ActivityDay'])\n",
        "dailySteps['ActivityDay']=pd.to_datetime(dailySteps['ActivityDay'])\n",
        "heartrateSeconds['Time']=pd.to_datetime(heartrateSeconds['Time'])\n",
        "sleepDay['SleepDay']=pd.to_datetime(sleepDay['SleepDay'])\n",
        "hourlyIntensities['ActivityHour']=pd.to_datetime(hourlyIntensities['ActivityHour'])\n",
        "hourlySteps['ActivityHour']=pd.to_datetime(hourlySteps['ActivityHour'])\n",
        "hourlyCalories['ActivityHour']=pd.to_datetime(hourlyCalories['ActivityHour'])\n",
        "weightLogInfo['Date']=pd.to_datetime(weightLogInfo['Date'])\n",
        "\n",
        "# Converting the hourly datasets to hourly values from DateTime\n",
        "\n",
        "heartrateSeconds['Time_Period']=pd.to_datetime(heartrateSeconds['Time']).dt.hour\n",
        "hourlyIntensities['Time_Period']=pd.to_datetime(hourlyIntensities['ActivityHour']).dt.hour\n",
        "hourlySteps['Time_Period']=pd.to_datetime(hourlySteps['ActivityHour']).dt.hour\n",
        "hourlyCalories['Time_Period']=pd.to_datetime(hourlyCalories['ActivityHour']).dt.hour\n",
        "sleepDay['Time_Period'] = pd.to_datetime(sleepDay['SleepDay']).dt.hour\n",
        "weightLogInfo['Time_Period']=pd.to_datetime(weightLogInfo['Date']).dt.hour\n",
        "\n",
        "\n",
        "# Feature engineering on Columns to get insights from Data sets\n",
        "# Adding Time period \"Morning\"/ \"Afternoon\"/ \"Evening\"\n",
        "\n",
        "def get_time_block(hour):\n",
        "    if 5 <= hour < 12:\n",
        "        return 'Morning'\n",
        "    elif 12 <= hour < 17:\n",
        "        return 'Afternoon'\n",
        "    elif 17 <= hour < 21:\n",
        "        return 'Evening'\n",
        "    else:\n",
        "        return 'Night'\n",
        "\n",
        "heartrateSeconds['TimeBlock'] = heartrateSeconds['Time_Period'].apply(get_time_block)\n",
        "hourlyIntensities['TimeBlock'] = hourlyIntensities['Time_Period'].apply(get_time_block)\n",
        "hourlySteps['TimeBlock'] = hourlySteps['Time_Period'].apply(get_time_block)\n",
        "hourlyCalories['TimeBlock'] = hourlyCalories['Time_Period'].apply(get_time_block)\n",
        "sleepDay['TimeBlock'] = sleepDay['Time_Period'].apply(get_time_block)\n",
        "weightLogInfo['TimeBlock'] = weightLogInfo['Time_Period'].apply(get_time_block)\n",
        "\n",
        "\n",
        "# Converting BMI into Category \"Overweight\"/ \"Underweight\"/ \"Normal Weight\"/ \"Obese\"\n",
        "\n",
        "\n",
        "def categorize_bmi(bmi):\n",
        "  if bmi < 18.5:\n",
        "    return 'underweight'\n",
        "  elif 18.5 <= bmi < 25:\n",
        "    return 'normal weight'\n",
        "  elif 25 <= bmi < 30:\n",
        "    return 'over weight'\n",
        "  else:\n",
        "    return 'obese'\n",
        "\n",
        "weightLogInfo['BMI_Category'] = weightLogInfo['BMI'].apply(categorize_bmi)\n",
        "\n",
        "\n",
        "# Adding Total Active Minutes using all active minutes columns\n",
        "\n",
        "\n",
        "dailyActivity['TotalActiveMinutes'] = (dailyActivity['VeryActiveMinutes'] +\n",
        "                                        dailyActivity['FairlyActiveMinutes'] +\n",
        "                                        dailyActivity['LightlyActiveMinutes'])\n",
        "\n",
        "\n",
        "# Adding Steps Category dividing users profile mode \"Active\"/ \"Very Active\"/ \"Moderate\"/ \"Low\"\n",
        "\n",
        "\n",
        "dailyActivity['steps_category'] = pd.cut(dailyActivity['TotalSteps'],\n",
        "                              bins=[0, 5000, 10000, 15000, float('inf')],\n",
        "                              labels=['Low', 'Moderate', 'Active', 'Very Active'])\n",
        "\n",
        "\n",
        "# Calories per step efficiency\n",
        "\n",
        "dailyActivity['calories_per_step'] = dailyActivity['Calories'] / dailyActivity['TotalSteps']\n",
        "\n",
        "\n",
        "# Sleep efficiency\n",
        "\n",
        "sleepDay['Sleep_efficiency'] = (sleepDay['TotalMinutesAsleep'] / sleepDay['TotalTimeInBed']) * 100\n",
        "\n",
        "\n",
        "# Sleep quality categories\n",
        "\n",
        "sleepDay['sleep_quality'] = pd.cut(sleepDay['Sleep_efficiency'],bins=[0, 80, 90, 200],labels=['Poor', 'Good', 'Excellent'],include_lowest=True)\n",
        "\n",
        "# Time to fall asleep\n",
        "\n",
        "sleepDay['time_to_sleep'] = sleepDay['TotalTimeInBed'] - sleepDay['TotalMinutesAsleep']\n",
        "\n",
        "# Heart rate zones\n",
        "heartrateSeconds['hr_zone'] = pd.cut(heartrateSeconds['Value'],bins=[0, 100, 140, 170, float('inf')],labels=['Resting', 'Light', 'Moderate', 'Vigorous'])\n"
      ],
      "metadata": {
        "id": "wk-9a2fpoLcV"
      },
      "execution_count": null,
      "outputs": []
    },
    {
      "cell_type": "markdown",
      "source": [
        "### What all manipulations have you done and insights you found?"
      ],
      "metadata": {
        "id": "MSa1f5Uengrz"
      }
    },
    {
      "cell_type": "markdown",
      "source": [
        "### What all manipulations have you done and insights you found?\n",
        "\n",
        "1. Converted all date-related columns to `datetime` format for consistent time-based operations.\n",
        "2. Extracted hour from time columns to analyze activity patterns over different parts of the day.\n",
        "3. Created a `TimeBlock` column to classify time into Morning, Afternoon, Evening, and Night.\n",
        "4. Dropped unnecessary or mostly null columns such as 'Fat' to clean the dataset.\n",
        "5. Checked for duplicate and null values and removed/handled them.\n",
        "6. Merged and aligned dataframes for accurate multi-source analysis.\n",
        "7. Explored trends in sleep, steps, calories burned, and heart rate for different time segments.\n",
        "\n",
        "**Insights:**\n",
        "- Most users are less active during Night and more active during Morning and Afternoon.\n",
        "- Average step count and calorie burn peak in the Morning and Evening.\n",
        "- Sleep durations cluster around 6.5 to 7.5 hours for most users.\n",
        "- Heart rate shows typical ranges between 60 and 100 bpm, with elevated rates during active times.\n",
        "\n",
        "These insights help Bellabeat understand user patterns and tailor recommendations or marketing based on actual usage behavior."
      ],
      "metadata": {
        "id": "LbyXE7I1olp8"
      }
    },
    {
      "cell_type": "markdown",
      "source": [
        "## ***4. Data Vizualization, Storytelling & Experimenting with charts : Understand the relationships between variables***"
      ],
      "metadata": {
        "id": "GF8Ens_Soomf"
      }
    },
    {
      "cell_type": "markdown",
      "source": [
        "#### Chart - 1"
      ],
      "metadata": {
        "id": "0wOQAZs5pc--"
      }
    },
    {
      "cell_type": "code",
      "source": [
        "#1.Distribution of Daily Steps\n",
        "\n",
        "plt.figure(figsize=(10, 6))\n",
        "plt.hist(dailySteps['StepTotal'], bins=30, color='lightcoral', edgecolor='black')\n",
        "plt.title('1. Distribution of Daily Steps')\n",
        "plt.xlabel('Total Steps')\n",
        "plt.ylabel('Frequency')\n",
        "plt.grid(axis='y', alpha=0.75)\n",
        "plt.show()\n"
      ],
      "metadata": {
        "id": "dqcSSIFubZXZ"
      },
      "execution_count": null,
      "outputs": []
    },
    {
      "cell_type": "markdown",
      "source": [
        "##### 1. Why did you pick the specific chart?"
      ],
      "metadata": {
        "id": "K5QZ13OEpz2H"
      }
    },
    {
      "cell_type": "markdown",
      "source": [
        "A histogram is used to show the distribution of daily steps across all users in the dataset. It helps visualize the frequency of different step counts, providing insights into common step habits. Adding a vertical line for the 10,000 steps goal allows for easy comparison of user activity against a common fitness benchmark."
      ],
      "metadata": {
        "id": "XESiWehPqBRc"
      }
    },
    {
      "cell_type": "markdown",
      "source": [
        "##### 2. What is/are the insight(s) found from the chart?"
      ],
      "metadata": {
        "id": "lQ7QKXXCp7Bj"
      }
    },
    {
      "cell_type": "markdown",
      "source": [
        "1. The distribution is right-skewed, indicating that a significant number of users have lower daily step counts.\n",
        "2. There is a notable peak or concentration of users who walk fewer than 8,000 steps per day.\n",
        "3. A substantial portion of users do not meet the commonly recommended goal of 10,000 steps per day. There's a drop in frequency around the 10,000 steps mark, with fewer users exceeding it compared to those below it."
      ],
      "metadata": {
        "id": "C_j1G7yiqdRP"
      }
    },
    {
      "cell_type": "markdown",
      "source": [
        "##### 3. Will the gained insights help creating a positive business impact?\n",
        "Yes, absolutely. This insight is crucial for Bellabeat:\n",
        "1. **Targeted Engagement:** Since many users are below the 10,000-step goal, Bellabeat can create targeted in-app challenges, notifications, and encouraging messages to motivate users to increase their steps.\n",
        "2. **Feature Development:** It highlights the need for features that encourage more walking, such as step-based goals, progress tracking towards 10,000 steps, friendly competitions among users, or integration with walking routes.\n",
        "3. **Marketing & Education:** Marketing materials can emphasize how Bellabeat devices can help users gradually increase their daily activity and reach health goals like 10,000 steps, educating them on the benefits of doing so.\n",
        "\n",
        "Negative\n",
        "\n",
        "If a large proportion of users consistently fail to reach commonly accepted activity goals like 10,000 steps *while using the device*, it could indicate that:\n",
        "1. The device/app is not effectively motivating behavioral change.\n",
        "2. Users might become demotivated if they see their consistently low step counts without improvement.\n",
        "3. Users might question the value of the device if it's not helping them become more active.\n",
        "This could lead to user dissatisfaction and potential churn if the device is perceived as not being helpful in achieving fitness goals. Bellabeat needs to ensure their features are effective in encouraging users to move more based on these insights."
      ],
      "metadata": {
        "id": "448CDAPjqfQr"
      }
    },
    {
      "cell_type": "markdown",
      "source": [
        "Answer Here"
      ],
      "metadata": {
        "id": "3cspy4FjqxJW"
      }
    },
    {
      "cell_type": "markdown",
      "source": [
        "#### Chart - 2"
      ],
      "metadata": {
        "id": "KSlN3yHqYklG"
      }
    },
    {
      "cell_type": "code",
      "source": [
        "# Chart - 2. Distribution of Total Minutes Asleep\n",
        "plt.figure(figsize=(10, 6))\n",
        "plt.hist(sleepDay['TotalMinutesAsleep'], bins=20, color='skyblue', edgecolor='black')\n",
        "plt.title('2. Distribution of Total Minutes Asleep')\n",
        "plt.xlabel('Total Minutes Asleep')\n",
        "plt.ylabel('Frequency')\n",
        "plt.grid(axis='y', alpha=0.75)\n",
        "plt.show()"
      ],
      "metadata": {
        "id": "R4YgtaqtYklH"
      },
      "execution_count": null,
      "outputs": []
    },
    {
      "cell_type": "markdown",
      "source": [
        "##### 1. Why did you pick the specific chart?"
      ],
      "metadata": {
        "id": "t6dVpIINYklI"
      }
    },
    {
      "cell_type": "markdown",
      "source": [
        "A histogram is ideal for visualizing the distribution of a single numerical variable. It shows the frequency of different sleep durations, allowing us to see the common sleep patterns among users.\n"
      ],
      "metadata": {
        "id": "5aaW0BYyYklI"
      }
    },
    {
      "cell_type": "markdown",
      "source": [
        "##### 2. What is/are the insight(s) found from the chart?"
      ],
      "metadata": {
        "id": "ijmpgYnKYklI"
      }
    },
    {
      "cell_type": "markdown",
      "source": [
        "The histogram shows that the majority of users report sleeping between approximately 300 and 500 minutes per night (5 to 8.3 hours). There's a peak around the 400-450 minute (6.7 - 7.5 hours) range, suggesting a common sleep duration. There are fewer instances of very short or very long sleep durations.\n"
      ],
      "metadata": {
        "id": "PSx9atu2YklI"
      }
    },
    {
      "cell_type": "markdown",
      "source": [
        "##### 3. Will the gained insights help creating a positive business impact?\n"
      ],
      "metadata": {
        "id": "-JiQyfWJYklI"
      }
    },
    {
      "cell_type": "markdown",
      "source": [
        "Yes, understanding the typical sleep duration of users is valuable. Bellabeat can use this insight to:\n",
        "1. Tailor marketing messages about the importance of getting enough sleep, highlighting how their devices can track and improve sleep within the observed range.\n",
        "2. Develop features or content within the app that cater to this typical sleep duration, offering tips or goals related to achieving 7-8 hours of sleep.\n",
        "3. Identify users with significantly low or high sleep durations and potentially offer targeted advice or support through the app.\n",
        "\n",
        "\n",
        "Negative :\n",
        "\n",
        "While this specific chart doesn't directly indicate negative growth, it reveals that some users are reporting very short or very long sleep durations. If a significant portion of users consistently have poor sleep (very short duration), it could imply that either:\n",
        "1. The device isn't effectively helping them improve their sleep, potentially leading to dissatisfaction.\n",
        "2. These users might have underlying health issues that the app/device doesn't adequately address, limiting the perceived value.\n",
        "Bellabeat should investigate these outlier groups to understand why they are reporting these sleep patterns and if the device is meeting their needs. If not, it could lead to user churn."
      ],
      "metadata": {
        "id": "BcBbebzrYklV"
      }
    },
    {
      "cell_type": "markdown",
      "source": [
        "#### Chart - 3"
      ],
      "metadata": {
        "id": "EM7whBJCYoAo"
      }
    },
    {
      "cell_type": "code",
      "source": [
        "# Chart - 3 Distribution of Heart Rates\n",
        "plt.figure(figsize=(12, 6))\n",
        "sns.histplot(data=heartrateSeconds, x='Value', kde=True, bins=50)\n",
        "plt.title('Distribution of Heart Rates')\n",
        "plt.xlabel('Heart Rate (bpm)')\n",
        "plt.ylabel('Frequency')\n",
        "plt.grid(axis='y')\n",
        "plt.show()"
      ],
      "metadata": {
        "id": "t6GMdE67YoAp"
      },
      "execution_count": null,
      "outputs": []
    },
    {
      "cell_type": "markdown",
      "source": [
        "##### 1. Why did you pick the specific chart?"
      ],
      "metadata": {
        "id": "fge-S5ZAYoAp"
      }
    },
    {
      "cell_type": "markdown",
      "source": [
        "A histogram with a Kernel Density Estimate (KDE) is used to visualize the distribution of heart rate readings. This allows us to see the frequency of different heart rate values and understand the overall pattern of heart rates recorded by the devices. The KDE provides a smooth estimate of the probability density function.\n"
      ],
      "metadata": {
        "id": "5dBItgRVYoAp"
      }
    },
    {
      "cell_type": "markdown",
      "source": [
        "##### 2. What is/are the insight(s) found from the chart?"
      ],
      "metadata": {
        "id": "85gYPyotYoAp"
      }
    },
    {
      "cell_type": "markdown",
      "source": [
        "The histogram shows a clear distribution of heart rate values.\n",
        "Insights:\n",
        "1. **Peak Frequency:** The distribution has a prominent peak, indicating a range of heart rates that are most frequently recorded. This peak likely corresponds to resting or light activity heart rates.\n",
        "2. **Spread of Data:** The data is spread across a range, showing lower heart rates (likely during sleep or deep rest) and higher heart rates (during more intense activity).\n",
        "3. **Potential Multiple Modes:** There might be subtle peaks or a wider spread indicating different modes of activity (e.g., a cluster around resting HR and another around moderate HR).\n"
      ],
      "metadata": {
        "id": "4jstXR6OYoAp"
      }
    },
    {
      "cell_type": "markdown",
      "source": [
        "# Will the gained insights help creating a positive business impact?\n"
      ],
      "metadata": {
        "id": "RoGjAbkUYoAp"
      }
    },
    {
      "cell_type": "markdown",
      "source": [
        "Yes, understanding the distribution of heart rates is valuable for several reasons:\n",
        "1. **Feature Development:** It helps identify the typical range of heart rates users experience, which is crucial for developing features like heart rate zones, workout intensity tracking, and recovery monitoring.\n",
        "2. **Algorithm Refinement:** Knowing the distribution helps in refining algorithms for calorie estimation, sleep stage detection (often based on HR variability), and activity classification.\n",
        "3. **User Education:** Bellabeat can use this information to educate users about what constitutes a healthy resting heart rate, target heart rate zones for exercise, and the importance of heart rate variability for overall health, enhancing the value proposition of the device.\n",
        "4. **Identifying Anomalies:** Understanding the typical distribution helps in identifying unusually low or high heart rates that might warrant alerting the user to consult a doctor, adding a health monitoring value.\n",
        "\n",
        "# Are there any insights that lead to negative growth? Justify with specific reason.\n",
        "The distribution itself does not inherently lead to negative growth. However, issues related to the heart rate data collection or interpretation could cause negative growth:\n",
        "1. **Data Quality Issues:** If the histogram showed an abnormal distribution (e.g., a large number of zero values or extremely high/low values clustered incorrectly), it would indicate poor sensor data quality, leading to user dissatisfaction and lack of trust in the device.\n",
        "2. **Misinterpretation of Data:** If the app's interpretation of the heart rate data (e.g., incorrect heart rate zones, inaccurate workout summaries) is flawed, users might feel the device is not providing meaningful insights, leading to disengagement and potential churn.\n",
        "3. **Privacy Concerns:** While not directly from the chart's data itself, handling sensitive heart rate data raises privacy concerns. Any perceived mishandling or security breach of this personal data could severely damage trust and lead to negative growth."
      ],
      "metadata": {
        "id": "Sig2o9237mrF"
      }
    },
    {
      "cell_type": "markdown",
      "source": [
        "#### Chart - 4"
      ],
      "metadata": {
        "id": "4Of9eVA-YrdM"
      }
    },
    {
      "cell_type": "code",
      "source": [
        "# Chart - 4 Distribution of Daily Calories Burned\n",
        "plt.figure(figsize=(10, 6))\n",
        "sns.histplot(data=dailyCalories, x='Calories', bins=30, kde=True, color='orange')\n",
        "plt.title('Distribution of Daily Calories Burned')\n",
        "plt.xlabel('Calories Burned')\n",
        "plt.ylabel('Frequency')\n",
        "plt.grid(axis='y', alpha=0.75)\n",
        "plt.show()"
      ],
      "metadata": {
        "id": "irlUoxc8YrdO"
      },
      "execution_count": null,
      "outputs": []
    },
    {
      "cell_type": "markdown",
      "source": [
        "##### 1. Why did you pick the specific chart?"
      ],
      "metadata": {
        "id": "iky9q4vBYrdO"
      }
    },
    {
      "cell_type": "markdown",
      "source": [
        "A histogram with a Kernel Density Estimate (KDE) is used to visualize the distribution of daily calories burned by users. It helps understand the frequency of different calorie expenditure levels, providing insights into the typical daily energy burn of the user base. The KDE provides a smoothed representation of the distribution."
      ],
      "metadata": {
        "id": "aJRCwT6DYrdO"
      }
    },
    {
      "cell_type": "markdown",
      "source": [
        "##### 2. What is/are the insight(s) found from the chart?"
      ],
      "metadata": {
        "id": "F6T5p64dYrdO"
      }
    },
    {
      "cell_type": "markdown",
      "source": [
        "1. **Peak Distribution:** The histogram shows a peak in the distribution, indicating that a large number of users burn a similar amount of calories daily.\n",
        " 2. **Range of Calories:** It illustrates the range of daily calories burned across the user base, from lower values (likely less active days) to higher values (more active days).\n",
        " 3. **Potential Skewness:** The distribution might show some skewness, which could indicate that more users fall into lower calorie-burning categories than higher ones, aligning with the step count distribution seen earlier.\n"
      ],
      "metadata": {
        "id": "Xx8WAJvtYrdO"
      }
    },
    {
      "cell_type": "markdown",
      "source": [
        "##### 3. Will the gained insights help creating a positive business impact?\n",
        "Are there any insights that lead to negative growth? Justify with specific reason."
      ],
      "metadata": {
        "id": "y-Ehk30pYrdP"
      }
    },
    {
      "cell_type": "markdown",
      "source": [
        "Will the gained insights help creating a positive business impact?\n",
        "Yes, this insight is valuable for Bellabeat:\n",
        "1. **Personalized Goal Setting:** Understanding the typical range of calories burned helps in setting realistic and personalized daily calorie goals within the app.\n",
        "2. **Feature Development:** This data is essential for developing features related to weight management, fitness goal tracking (e.g., \"burn X calories today\"), and integration with nutrition tracking.\n",
        "3. **Marketing Messages:** Bellabeat can use this information to create marketing messages that highlight how their devices help users track and manage their calorie expenditure for fitness or weight goals.\n",
        "4. **Identifying Activity Levels:** The distribution can help categorize users based on their activity-related calorie burn, allowing for more targeted engagement strategies.\n",
        "\n",
        "Are there any insights that lead to negative growth? Justify with specific reason.\n",
        "Similar to other distribution charts, this chart itself doesn't directly cause negative growth. However, issues related to calorie tracking could lead to negative growth:\n",
        "1. **Accuracy Concerns:** If users perceive the calorie burn tracking to be inaccurate (e.g., significant discrepancies with other devices or perceived effort), they may lose trust in the Bellabeat device and its data, leading to dissatisfaction and churn.\n",
        "2. **Lack of Actionable Insights:** If the app just shows a number for calories burned without providing actionable insights, tips, or context (e.g., how it relates to their activity or diet), users might find the feature less valuable and disengage.\n",
        "3. **Comparison Issues:** If users compare their Bellabeat calorie data with friends using different devices and find large, unexplained differences, it could lead to doubts about the accuracy and potentially negative word-of-mouth.\n",
        "Bellabeat must ensure the accuracy of their calorie tracking algorithm and provide context and actionable insights based on this data to maintain user trust and engagement."
      ],
      "metadata": {
        "id": "jLNxxz7MYrdP"
      }
    },
    {
      "cell_type": "markdown",
      "source": [
        "#### Chart - 5"
      ],
      "metadata": {
        "id": "bamQiAODYuh1"
      }
    },
    {
      "cell_type": "code",
      "source": [
        "\n",
        "# 5. Distribution of Sedentary Minutes Per Day\n",
        "plt.figure(figsize=(10, 6))\n",
        "sns.histplot(dailyActivity['SedentaryMinutes'], bins=50, kde=True, color='purple')\n",
        "plt.title('5. Distribution of Sedentary Minutes Per Day')\n",
        "plt.xlabel('Sedentary Minutes')\n",
        "plt.ylabel('Frequency')\n",
        "plt.grid(axis='y')\n",
        "plt.show()"
      ],
      "metadata": {
        "id": "TIJwrbroYuh3"
      },
      "execution_count": null,
      "outputs": []
    },
    {
      "cell_type": "markdown",
      "source": [
        "##### 1. Why did you pick the specific chart?"
      ],
      "metadata": {
        "id": "QHF8YVU7Yuh3"
      }
    },
    {
      "cell_type": "markdown",
      "source": [
        "A histogram with a Kernel Density Estimate (KDE) is used to visualize the distribution of daily calories burned by users. It helps understand the frequency of different calorie expenditure levels, providing insights into the typical daily energy burn of the user base. The KDE provides a smoothed representation of the distribution."
      ],
      "metadata": {
        "id": "dcxuIMRPYuh3"
      }
    },
    {
      "cell_type": "markdown",
      "source": [
        "##### 2. What is/are the insight(s) found from the chart?"
      ],
      "metadata": {
        "id": "GwzvFGzlYuh3"
      }
    },
    {
      "cell_type": "markdown",
      "source": [
        "1. **Highly Skewed Distribution:** The distribution is extremely right-skewed, with a very high peak near 0 sedentary minutes. This is likely due to the way \"sedentary minutes\" is recorded – it might represent periods of *complete* inactivity recorded by the device sensors, and many users might not have prolonged periods of absolute stillness throughout the day *while wearing the device*.\n",
        "2. **Concentration near Zero:** A large number of data points are clustered very close to 0 sedentary minutes.\n",
        "3. **Long Tail:** There's a long tail extending to very high sedentary minute values, indicating that some users record significant periods of inactivity. However, the frequency drops sharply after the initial peak.\n"
      ],
      "metadata": {
        "id": "uyqkiB8YYuh3"
      }
    },
    {
      "cell_type": "markdown",
      "source": [
        "##### 3. Will the gained insights help creating a positive business impact?\n",
        "Are there any insights that lead to negative growth? Justify with specific reason."
      ],
      "metadata": {
        "id": "qYpmQ266Yuh3"
      }
    },
    {
      "cell_type": "markdown",
      "source": [
        "Will the gained insights help creating a positive business impact?\n",
        "Yes, understanding sedentary time is crucial for health and Bellabeat can leverage this:\n",
        "1. **Highlighting Inactivity:** While the distribution is skewed, the long tail indicates that some users *are* recording significant sedentary time. Bellabeat can use this data to highlight the importance of reducing prolonged sitting and encourage users to take breaks.\n",
        "2. **Feature Development:** This insight can drive the development of features like \"move reminders,\" alerts after periods of inactivity, or challenges focused on reducing sedentary time.\n",
        "3. **Educational Content:** Bellabeat can create content educating users about the health risks associated with prolonged sitting and how even short periods of light activity can make a difference.\n",
        "4. **Identifying User Segments:** Users with very high sedentary minutes represent a segment that could benefit significantly from specific interventions or feature suggestions.\n",
        "\n",
        "Are there any insights that lead to negative growth? Justify with specific reason.\n",
        "The highly skewed distribution with a large cluster at or near zero might indicate potential issues:\n",
        "1. **Data Accuracy/Interpretation:** If the device or app is not accurately capturing or defining \"sedentary minutes,\" users might see values near zero even if they have periods of inactivity. This could lead to a false sense of being active or lack of trust in the data if it doesn't match their perceived activity level. If the data is perceived as inaccurate, users might question the value of the device.\n",
        "2. **Lack of Actionability for Most Users:** If most users consistently see very low sedentary minutes recorded by the device, they might not find the sedentary minutes feature useful or motivating, as there's no perceived need to reduce it. This could lead to disengagement with this specific feature.\n",
        "\n",
        "Bellabeat needs to ensure the \"Sedentary Minutes\" metric is accurately captured and interpreted in a way that is meaningful and actionable for users, especially those who do have high sedentary periods or need reminders to move."
      ],
      "metadata": {
        "id": "_WtzZ_hCYuh4"
      }
    },
    {
      "cell_type": "markdown",
      "source": [
        "#### Chart - 6"
      ],
      "metadata": {
        "id": "OH-pJp9IphqM"
      }
    },
    {
      "cell_type": "code",
      "source": [
        "\n",
        "# 6. Distribution of VeryActive Minutes Per Day\n",
        "plt.figure(figsize=(10, 6))\n",
        "sns.histplot(dailyActivity['VeryActiveMinutes'], bins=50, kde=True, color='lightblue')\n",
        "plt.title('6. Distribution of VeryActive Minutes Per Day')\n",
        "plt.xlabel('Very Active Minutes')\n",
        "plt.ylabel('Frequency')\n",
        "plt.grid(axis='y')\n",
        "plt.show()"
      ],
      "metadata": {
        "id": "kuRf4wtuphqN"
      },
      "execution_count": null,
      "outputs": []
    },
    {
      "cell_type": "markdown",
      "source": [
        "##### 1. Why did you pick the specific chart?"
      ],
      "metadata": {
        "id": "bbFf2-_FphqN"
      }
    },
    {
      "cell_type": "markdown",
      "source": [
        "A histogram with a Kernel Density Estimate (KDE) is used to visualize the distribution of daily calories burned by users. It helps understand the frequency of different calorie expenditure levels, providing insights into the typical daily energy burn of the user base. The KDE provides a smoothed representation of the distribution."
      ],
      "metadata": {
        "id": "loh7H2nzphqN"
      }
    },
    {
      "cell_type": "markdown",
      "source": [
        "##### 2. What is/are the insight(s) found from the chart?"
      ],
      "metadata": {
        "id": "_ouA3fa0phqN"
      }
    },
    {
      "cell_type": "markdown",
      "source": [
        "1. **Highly Skewed Distribution Towards Zero:** The most prominent feature is a very high frequency of days with zero or very few very active minutes. This indicates that a significant portion of users record little to no high-intensity activity on many days.\n",
        "2. **Sharp Decline:** The frequency drops off very rapidly as the number of very active minutes increases.\n",
        "3. **Few High-Intensity Users:** There's a long but very low tail, suggesting that only a small number of users consistently engage in substantial amounts of very active time (e.g., more than 30-60 minutes).\n"
      ],
      "metadata": {
        "id": "VECbqPI7phqN"
      }
    },
    {
      "cell_type": "markdown",
      "source": [
        "##### 3. Will the gained insights help creating a positive business impact?\n",
        "Are there any insights that lead to negative growth? Justify with specific reason."
      ],
      "metadata": {
        "id": "Seke61FWphqN"
      }
    },
    {
      "cell_type": "markdown",
      "source": [
        "Will the gained insights help creating a positive business impact?\n",
        "Yes, understanding the distribution of very active minutes is crucial for targeted marketing and feature development:\n",
        "1. **Encouraging High-Intensity Activity:** Given the low engagement with very active minutes for many users, Bellabeat can create features, challenges, or content specifically aimed at encouraging users to incorporate more vigorous exercise into their routines.\n",
        "2. **Targeted Marketing:** Marketing can highlight the benefits of high-intensity workouts for women's health and show how Bellabeat devices can track and motivate users to achieve these levels.\n",
        "3. **Personalized Recommendations:** The app can identify users with low very active minutes and provide personalized recommendations or workout suggestions to gradually increase their intensity.\n",
        "\n",
        "Are there any insights that lead to negative growth? Justify with specific reason.\n",
        "The insight that most users are not engaging in high levels of activity could lead to negative growth if:\n",
        "1. **Users Get Demotivated:** If users consistently see low numbers for \"Very Active Minutes\" despite feeling like they are exercising, they might become demotivated or doubt the device's ability to accurately track their effort.\n",
        "2. **Value Proposition Disconnect:** If Bellabeat heavily markets the ability to track intense workouts, but the majority of users aren't doing them (or the device isn't showing they are), there's a disconnect in the value proposition for many users.\n",
        "3. **Comparison Issues:** Users might compare their low \"Very Active Minutes\" with fitness benchmarks or friends and feel like they are failing, potentially leading them to stop using the device.\n",
        "\n",
        "Bellabeat needs to address this by ensuring accurate tracking of varying intensity levels and providing motivational tools and achievable goals that guide users towards increasing their very active minutes, rather than just highlighting low numbers without support."
      ],
      "metadata": {
        "id": "DW4_bGpfphqN"
      }
    },
    {
      "cell_type": "markdown",
      "source": [
        "#### Chart - 7"
      ],
      "metadata": {
        "id": "PIIx-8_IphqN"
      }
    },
    {
      "cell_type": "code",
      "source": [
        "# 7. Distribution of Total Distance Per Day\n",
        "plt.figure(figsize=(10, 6))\n",
        "sns.histplot(dailyActivity['TotalDistance'], bins=30, kde=True, color='green')\n",
        "plt.title('7. Distribution of Total Distance Per Day')\n",
        "plt.xlabel('Total Distance (miles)')\n",
        "plt.ylabel('Frequency')\n",
        "plt.grid(axis='y')\n",
        "plt.show()"
      ],
      "metadata": {
        "id": "lqAIGUfyphqO"
      },
      "execution_count": null,
      "outputs": []
    },
    {
      "cell_type": "markdown",
      "source": [
        "##### 1. Why did you pick the specific chart?"
      ],
      "metadata": {
        "id": "t27r6nlMphqO"
      }
    },
    {
      "cell_type": "markdown",
      "source": [
        "A histogram with a Kernel Density Estimate (KDE) is used to visualize the distribution of total distance traveled per day. This helps understand the typical distances users cover, which is directly related to their overall mobility and activity levels"
      ],
      "metadata": {
        "id": "iv6ro40sphqO"
      }
    },
    {
      "cell_type": "markdown",
      "source": [
        "##### 2. What is/are the insight(s) found from the chart?"
      ],
      "metadata": {
        "id": "r2jJGEOYphqO"
      }
    },
    {
      "cell_type": "markdown",
      "source": [
        "1. **Concentration at Lower Distances:** Similar to step counts, the distribution shows a significant peak at lower distances, indicating that many users travel relatively short distances daily.\n",
        "2. **Relationship with Steps:** The shape of this distribution is expected to be similar to the distribution of total steps, as distance is often directly calculated or estimated from steps.\n",
        "3. **Presence of Higher Distances:** There is a tail extending to higher distances, representing days when users were more active and covered more ground."
      ],
      "metadata": {
        "id": "Po6ZPi4hphqO"
      }
    },
    {
      "cell_type": "markdown",
      "source": [
        "##### 3. Will the gained insights help creating a positive business impact?\n",
        "Are there any insights that lead to negative growth? Justify with specific reason."
      ],
      "metadata": {
        "id": "b0JNsNcRphqO"
      }
    },
    {
      "cell_type": "markdown",
      "source": [
        "Are there any insights that lead to negative growth? Justify with specific reason.\n",
        "Will the gained insights help creating a positive business impact?\n",
        "Yes, understanding the distribution of distance is beneficial:\n",
        "1. **Activity Benchmarking:** It provides a baseline for the typical distances covered by users, helping Bellabeat set realistic distance goals or challenges.\n",
        "2. **Feature Relevance:** The distance metric is relevant for users interested in running, walking, or cycling. Highlighting distance tracking can appeal to these segments.\n",
        "3. **Progress Tracking:** Users can be motivated by seeing their daily distance and working towards increasing it over time. Bellabeat can visually represent this progress.\n",
        "4. **Integration with Mapping:** Distance data is essential for features that involve mapping workouts or visualizing routes taken by users.\n",
        "\n",
        "Are there any insights that lead to negative growth? Justify with specific reason.\n",
        "The distribution itself doesn't cause negative growth, but issues with the distance tracking can:\n",
        "1. **Inaccurate Tracking:** If the reported distance is significantly inaccurate (e.g., due to GPS issues or incorrect step-to-distance conversion), users will lose trust in the device's data. Inaccuracy can lead to frustration and users abandoning the device.\n",
        "2. **Lack of Context:** Just showing a distance number might not be enough. If the app doesn't provide context (e.g., pace, relationship to steps, comparison to past performance), the data might not be perceived as valuable, leading to disengagement.\n",
        "3. **Comparison with Other Devices:** Users might compare the distance reported by their Bellabeat device with other trackers or phone apps. Significant discrepancies can erode confidence in the Bellabeat device's reliability.\n",
        "\n",
        "Bellabeat must prioritize the accuracy of distance tracking and provide features that make this data meaningful and actionable for users to maintain satisfaction and prevent negative growth."
      ],
      "metadata": {
        "id": "xvSq8iUTphqO"
      }
    },
    {
      "cell_type": "markdown",
      "source": [
        "#### Chart - 8"
      ],
      "metadata": {
        "id": "BZR9WyysphqO"
      }
    },
    {
      "cell_type": "code",
      "source": [
        "# Chart - 8 avg calories burnt during active time daily monday tuesday vs avg calories burnt during veryactive minutes (Categorical)\n",
        "\n",
        "# Merge daily activity and calories data\n",
        "merged_daily = pd.merge(dailyActivity, dailyCalories, on=['Id', 'ActivityDay'])\n",
        "\n",
        "# Calculate average calories burned for each activity level\n",
        "avg_calories_by_activity = merged_daily.groupby('steps_category')['Calories_x'].mean().reset_index()\n",
        "\n",
        "plt.figure(figsize=(10, 6))\n",
        "sns.barplot(data=avg_calories_by_activity, x='steps_category', y='Calories_x', palette='viridis', order=['Low', 'Moderate', 'Active', 'Very Active'])\n",
        "plt.title('8. Average Daily Calories Burned by Step Category')\n",
        "plt.xlabel('Step Category')\n",
        "plt.ylabel('Average Daily Calories Burned')\n",
        "plt.grid(axis='y', alpha=0.75)\n",
        "plt.show()"
      ],
      "metadata": {
        "id": "TdPTWpAVphqO"
      },
      "execution_count": null,
      "outputs": []
    },
    {
      "cell_type": "markdown",
      "source": [
        "##### 1. Why did you pick the specific chart?"
      ],
      "metadata": {
        "id": "jj7wYXLtphqO"
      }
    },
    {
      "cell_type": "markdown",
      "source": [
        "A bar chart is used to compare the average daily calories burned across different step categories ('Low', 'Moderate', 'Active', 'Very Active'). It clearly shows how average calorie expenditure varies with increasing activity levels based on step counts.\n"
      ],
      "metadata": {
        "id": "Ob8u6rCTphqO"
      }
    },
    {
      "cell_type": "markdown",
      "source": [
        "##### 2. What is/are the insight(s) found from the chart?"
      ],
      "metadata": {
        "id": "eZrbJ2SmphqO"
      }
    },
    {
      "cell_type": "markdown",
      "source": [
        "1. There is a clear positive correlation between step category and average calories burned. Users in higher step categories ('Active', 'Very Active') burn significantly more calories on average than those in lower categories ('Low', 'Moderate').\n",
        "2. The 'Very Active' category shows the highest average calorie burn, as expected.\n",
        "3. The difference in average calories between adjacent categories (e.g., Low vs. Moderate, Moderate vs. Active) demonstrates the impact of increasing daily steps on energy expenditure.\n"
      ],
      "metadata": {
        "id": "mZtgC_hjphqO"
      }
    },
    {
      "cell_type": "markdown",
      "source": [
        "##### 3. Will the gained insights help creating a positive business impact?\n",
        "Are there any insights that lead to negative growth? Justify with specific reason."
      ],
      "metadata": {
        "id": "rFu4xreNphqO"
      }
    },
    {
      "cell_type": "markdown",
      "source": [
        "Will the gained insights help creating a positive business impact?\n",
        "Yes, this insight is highly valuable for Bellabeat:\n",
        "1. Encouraging Higher Activity: It visually reinforces the link between steps and calorie burn, which can be used to motivate users to increase their daily step counts to achieve fitness goals like weight management.\n",
        "2. Goal Setting: Bellabeat can use these averages as benchmarks to help users set realistic calorie burn goals based on their activity level or encourage them to move to a higher step category.\n",
        "3. Marketing and Education: This data can be used in marketing campaigns and in-app content to educate users about the calorie-burning benefits of increased physical activity, demonstrating the value of the device.\n",
        "4. Feature Personalization: The app can provide personalized insights or challenges based on a user's current step category and their potential to increase calorie burn by moving to a higher one.\n",
        "\n",
        "Are there any insights that lead to negative growth? Justify with specific reason.\n",
        "This chart itself shows a positive relationship consistent with expected physiological outcomes, so it doesn't inherently lead to negative growth. However, potential issues could arise if:\n",
        "1. Inaccurate Data: If the calorie calculations are perceived as inaccurate by users (e.g., they don't match their perceived effort or results), they may lose faith in the device's data, leading to dissatisfaction and potential churn. For example, if a user in the 'Very Active' category sees an unexpectedly low calorie count, they might doubt the device's reliability.\n",
        "2. Misinterpretation by Users: Users might focus solely on calorie burn without understanding the context of total daily expenditure, BMR, or the importance of diet. The app needs to provide proper context to prevent frustration if calorie burn alone isn't leading to desired results.\n",
        "Bellabeat must ensure the accuracy and transparency of its calorie calculation algorithms and provide comprehensive tools and education to support users' fitness journeys."
      ],
      "metadata": {
        "id": "ey_0qi68phqO"
      }
    },
    {
      "cell_type": "markdown",
      "source": [
        "#### Chart - 9"
      ],
      "metadata": {
        "id": "YJ55k-q6phqO"
      }
    },
    {
      "cell_type": "code",
      "source": [
        "\n",
        "# 9. Very Active Distance vs. Total Distance\n",
        "plt.figure(figsize=(10, 6))\n",
        "sns.scatterplot(data=dailyActivity, x='VeryActiveDistance', y='TotalDistance', alpha=0.5)\n",
        "plt.title('9. Very Active Distance vs. Total Distance')\n",
        "plt.xlabel('Very Active Distance')\n",
        "plt.ylabel('Total Distance')\n",
        "plt.grid(True)\n",
        "plt.show()"
      ],
      "metadata": {
        "id": "B2aS4O1ophqO"
      },
      "execution_count": null,
      "outputs": []
    },
    {
      "cell_type": "markdown",
      "source": [
        "##### 1. Why did you pick the specific chart?"
      ],
      "metadata": {
        "id": "gCFgpxoyphqP"
      }
    },
    {
      "cell_type": "markdown",
      "source": [
        "A scatter plot is used to visualize the relationship between 'VeryActiveDistance' and 'TotalDistance'. This helps determine if there is a correlation between the distance covered during high-intensity activities and the overall daily distance.\n"
      ],
      "metadata": {
        "id": "TVxDimi2phqP"
      }
    },
    {
      "cell_type": "markdown",
      "source": [
        "##### 2. What is/are the insight(s) found from the chart?"
      ],
      "metadata": {
        "id": "OVtJsKN_phqQ"
      }
    },
    {
      "cell_type": "markdown",
      "source": [
        "1. There is a strong positive correlation between Very Active Distance and Total Distance. As Very Active Distance increases, Total Distance generally increases as well.\n",
        "2. Many data points cluster along a line, suggesting that for users who engage in very active movement, a significant portion of their total daily distance comes from these high-intensity activities.\n",
        "3. There are many data points where Very Active Distance is zero but Total Distance is greater than zero, indicating that users cover distance through other activity levels (light, fairly active).\n"
      ],
      "metadata": {
        "id": "ngGi97qjphqQ"
      }
    },
    {
      "cell_type": "markdown",
      "source": [
        "##### 3. Will the gained insights help creating a positive business impact?\n",
        "Are there any insights that lead to negative growth? Justify with specific reason."
      ],
      "metadata": {
        "id": "lssrdh5qphqQ"
      }
    },
    {
      "cell_type": "markdown",
      "source": [
        "Will the gained insights help creating a positive business impact?\n",
        "Yes, these insights can lead to positive business impact:\n",
        "1. **Highlighting Impact of Intensity:** This chart visually demonstrates how engaging in very active movement contributes significantly to overall daily distance. Bellabeat can use this to encourage users to incorporate higher-intensity activities to boost their total distance and activity levels.\n",
        "2. **Feature Development:** It supports the development of features that track, analyze, and motivate users based on their performance in different intensity zones, particularly focusing on very active distance goals or challenges.\n",
        "3. **User Education:** Bellabeat can educate users on how activities like running or fast walking contribute disproportionately to their total daily movement compared to light activity.\n",
        "4. **Segmentation:** Users with high very active distance are likely more engaged and fitness-focused. Bellabeat can tailor marketing and features to this segment, while also creating pathways for less active users to increase their very active distance.\n",
        "\n",
        "Are there any insights that lead to negative growth? Justify with specific reason.\n",
        "This chart primarily shows a positive relationship, which is expected. However, potential negative impacts could arise if:\n",
        "1. **Inaccurate Tracking:** If the device inaccurately differentiates between very active distance and other types of distance, users may see a scatter plot that doesn't match their actual activity, leading to distrust in the data. For example, if someone runs a significant distance but it's not recorded as \"VeryActiveDistance,\" they might lose faith in the device's accuracy.\n",
        "2. **Overemphasis on High Intensity:** If Bellabeat's messaging *only* focuses on \"Very Active\" distance and neglects the importance of total distance covered through light or moderate activity, it might alienate users who prefer less intense forms of exercise, potentially leading them to feel their efforts aren't valued or tracked properly.\n",
        "\n",
        "Bellabeat should ensure accurate intensity tracking and provide a balanced view of all activity levels and their contribution to overall health and fitness goals."
      ],
      "metadata": {
        "id": "tBpY5ekJphqQ"
      }
    },
    {
      "cell_type": "markdown",
      "source": [
        "#### Chart - 10"
      ],
      "metadata": {
        "id": "U2RJ9gkRphqQ"
      }
    },
    {
      "cell_type": "code",
      "source": [
        "# Chart - 10: Very Active Distance vs. Total Distance - Scatter Plot\n",
        "\n",
        "plt.figure(figsize=(10, 6))\n",
        "sns.scatterplot(data=dailyActivity, x='VeryActiveDistance', y='TotalDistance', alpha=0.6, s=50) # s controls marker size\n",
        "plt.title('10. Very Active Distance vs. Total Distance')\n",
        "plt.xlabel('Very Active Distance')\n",
        "plt.ylabel('Total Distance')\n",
        "plt.grid(True)\n",
        "plt.show()"
      ],
      "metadata": {
        "id": "agDaMgqrsWkW"
      },
      "execution_count": null,
      "outputs": []
    },
    {
      "cell_type": "markdown",
      "source": [
        "##### 1. Why did you pick the specific chart?"
      ],
      "metadata": {
        "id": "1M8mcRywphqQ"
      }
    },
    {
      "cell_type": "markdown",
      "source": [
        "A scatter plot is used to visualize the relationship between 'VeryActiveDistance' and 'TotalDistance'. This helps determine if there is a correlation between the distance covered during high-intensity activities and the overall daily distance.\n"
      ],
      "metadata": {
        "id": "8agQvks0phqQ"
      }
    },
    {
      "cell_type": "markdown",
      "source": [
        "##### 2. What is/are the insight(s) found from the chart?"
      ],
      "metadata": {
        "id": "tgIPom80phqQ"
      }
    },
    {
      "cell_type": "markdown",
      "source": [
        "Users are participating in less very active distance comparing to total distance. Many data points cluster along a line, suggesting that for users who engage in very active movement, a significant portion of their total daily distance comes from these high-intensity activities."
      ],
      "metadata": {
        "id": "Qp13pnNzphqQ"
      }
    },
    {
      "cell_type": "markdown",
      "source": [
        "##### 3. Will the gained insights help creating a positive business impact?\n",
        "Are there any insights that lead to negative growth? Justify with specific reason."
      ],
      "metadata": {
        "id": "JMzcOPDDphqR"
      }
    },
    {
      "cell_type": "markdown",
      "source": [
        "Will the gained insights help creating a positive business impact?\n",
        "Yes, these insights can lead to positive business impact:\n",
        "1. **Highlighting Impact of Intensity:** This chart visually demonstrates how engaging in very active movement contributes significantly to overall daily distance. Bellabeat can use this to encourage users to incorporate higher-intensity activities to boost their total distance and activity levels.\n",
        "2. **Feature Development:** It supports the development of features that track, analyze, and motivate users based on their performance in different intensity zones, particularly focusing on very active distance goals or challenges.\n",
        "3. **User Education:** Bellabeat can educate users on how activities like running or fast walking contribute disproportionately to their total daily movement compared to light activity.\n",
        "4. **Segmentation:** Users with high very active distance are likely more engaged and fitness-focused. Bellabeat can tailor marketing and features to this segment, while also creating pathways for less active users to increase their very active distance.\n",
        "\n",
        "Are there any insights that lead to negative growth? Justify with specific reason.\n",
        "This chart primarily shows a positive relationship, which is expected. However, potential negative impacts could arise if:\n",
        "1. **Inaccurate Tracking:** If the device inaccurately differentiates between very active distance and other types of distance, users may see a scatter plot that doesn't match their actual activity, leading to distrust in the data. For example, if someone runs a significant distance but it's not recorded as \"VeryActiveDistance,\" they might lose faith in the device's accuracy.\n",
        "2. **Overemphasis on High Intensity:** If Bellabeat's messaging *only* focuses on \"Very Active\" distance and neglects the importance of total distance covered through light or moderate activity, it might alienate users who prefer less intense forms of exercise, potentially leading them to feel their efforts aren't valued or tracked properly.\n",
        "\n",
        "Bellabeat should ensure accurate intensity tracking and provide a balanced view of all activity levels and their contribution to overall health and fitness goals."
      ],
      "metadata": {
        "id": "R4Ka1PC2phqR"
      }
    },
    {
      "cell_type": "markdown",
      "source": [
        "#### Chart - 11"
      ],
      "metadata": {
        "id": "x-EpHcCOp1ci"
      }
    },
    {
      "cell_type": "code",
      "source": [
        "\n",
        "# Merge heartrate data with daily activity data to get step category\n",
        "heartrate_with_activity = pd.merge(heartrateSeconds, dailyActivity[['Id', 'ActivityDay', 'steps_category']],\n",
        "                                 left_on=['Id', heartrateSeconds['Time'].dt.date],\n",
        "                                 right_on=['Id', dailyActivity['ActivityDay'].dt.date],\n",
        "                                 how='left')\n",
        "\n",
        "# Drop the redundant date column from the merge key\n",
        "heartrate_with_activity = heartrate_with_activity.drop(columns=['key_1', 'key_1'])\n",
        "\n",
        "# Calculate average heartrate for each step category\n",
        "avg_heartrate_by_steps_category = heartrate_with_activity.groupby('steps_category')['Value'].mean().reset_index()\n",
        "\n",
        "# Chart - 11 Average Heartrate by Step Category\n",
        "plt.figure(figsize=(10, 6))\n",
        "sns.barplot(data=avg_heartrate_by_steps_category.dropna(), x='steps_category', y='Value', palette='plasma', order=['Low', 'Moderate', 'Active', 'Very Active'])\n",
        "plt.title('11. Average Heartrate by Step Category')\n",
        "plt.xlabel('Step Category')\n",
        "plt.ylabel('Average Heartrate (bpm)')\n",
        "plt.grid(axis='y', alpha=0.75)\n",
        "plt.show()"
      ],
      "metadata": {
        "id": "mAQTIvtqp1cj"
      },
      "execution_count": null,
      "outputs": []
    },
    {
      "cell_type": "markdown",
      "source": [
        "##### 1. Why did you pick the specific chart?"
      ],
      "metadata": {
        "id": "X_VqEhTip1ck"
      }
    },
    {
      "cell_type": "markdown",
      "source": [
        "A bar chart is used to compare the average heart rate across different step categories. It helps visualize how average heart rate varies with increasing daily activity levels (categorized by steps). This can provide insights into the physiological response related to different levels of daily movement.\n"
      ],
      "metadata": {
        "id": "-vsMzt_np1ck"
      }
    },
    {
      "cell_type": "markdown",
      "source": [
        "##### 2. What is/are the insight(s) found from the chart?"
      ],
      "metadata": {
        "id": "8zGJKyg5p1ck"
      }
    },
    {
      "cell_type": "markdown",
      "source": [
        "1. There appears to be a slight trend of increasing average heart rate as the step category increases from 'Low' to 'Very Active'. This is expected as higher activity levels generally correlate with higher average heart rates throughout the day.\n",
        "2. The difference in average heart rate between categories might be subtle or more pronounced depending on the data and how the average heart rate is calculated (e.g., daily average includes sedentary periods).\n",
        "3. Users in higher step categories likely spend more time in elevated heart rate zones, which contributes to a higher daily average.\n"
      ],
      "metadata": {
        "id": "ZYdMsrqVp1ck"
      }
    },
    {
      "cell_type": "markdown",
      "source": [
        "##### 3. Will the gained insights help creating a positive business impact?\n",
        "Are there any insights that lead to negative growth? Justify with specific reason."
      ],
      "metadata": {
        "id": "PVzmfK_Ep1ck"
      }
    },
    {
      "cell_type": "markdown",
      "source": [
        "Will the gained insights help creating a positive business impact?\n",
        "Yes, understanding the relationship between activity level and heart rate is beneficial:\n",
        "1. **Physiological Insight:** It helps users understand how their daily activity impacts their cardiovascular system, reinforcing the health benefits of moving more.\n",
        "2. **Feature Enhancement:** Bellabeat can use this to provide more nuanced feedback to users, showing them not just their steps but also how those steps influence their average heart rate and overall cardiovascular health.\n",
        "3. **Motivation:** Visualizing that more steps correlate with a higher average heart rate can motivate users to increase their activity, knowing it benefits their heart health.\n",
        "4. **Contextual Data:** Providing average heart rate data alongside activity data gives users a more complete picture of their physiological state throughout the day.\n",
        "\n",
        "Are there any insights that lead to negative growth? Justify with specific reason.\n",
        "This chart primarily shows a positive relationship, which is expected. However, potential negative impacts could arise if:\n",
        "1. **Data Consistency/Accuracy:** If the average heart rate data appears inconsistent with the activity level (e.g., 'Very Active' users showing unusually low average heart rates, or 'Low' activity users showing very high averages without a clear reason), it could indicate data collection issues (device not worn consistently, sensor errors) or flawed data processing. Inaccurate or confusing data can erode user trust.\n",
        "2. **Lack of Context:** If the average heart rate is presented without sufficient context (e.g., user's age, individual baseline HR), users might misinterpret the data or become unnecessarily concerned about their readings. Providing raw numbers without interpretation can be detrimental.\n",
        "3. **Comparison Issues:** Users might compare their average heart rate to others or online benchmarks. If their average seems significantly off compared to their activity level, they might doubt the device or feel discouraged.\n",
        "\n",
        "Bellabeat needs to ensure the accuracy of heart rate tracking, provide contextual interpretation of the data, and integrate it seamlessly with activity metrics to build user trust and provide actionable insights."
      ],
      "metadata": {
        "id": "druuKYZpp1ck"
      }
    },
    {
      "cell_type": "markdown",
      "source": [
        "#### Chart - 12"
      ],
      "metadata": {
        "id": "n3dbpmDWp1ck"
      }
    },
    {
      "cell_type": "code",
      "source": [
        "hourly_hr_zone_distribution = heartrateSeconds.groupby(['Time_Period', 'hr_zone']).size().reset_index(name='count')\n",
        "\n",
        "# Calculate the total count for each hour to normalize the data\n",
        "hourly_hr_zone_total = heartrateSeconds.groupby('Time_Period').size().reset_index(name='total_count')\n",
        "\n",
        "# Merge the two dataframes\n",
        "hourly_hr_zone_distribution = pd.merge(hourly_hr_zone_distribution, hourly_hr_zone_total, on='Time_Period')\n",
        "\n",
        "# Calculate the percentage distribution for each hour\n",
        "hourly_hr_zone_distribution['percentage'] = (hourly_hr_zone_distribution['count'] / hourly_hr_zone_distribution['total_count']) * 100\n",
        "\n",
        "# Define the order of heart rate zones for consistent plotting\n",
        "hr_zone_order = ['Resting', 'Light', 'Moderate', 'Vigorous']\n",
        "hourly_hr_zone_distribution['hr_zone'] = pd.Categorical(hourly_hr_zone_distribution['hr_zone'], categories=hr_zone_order, ordered=True)\n",
        "\n",
        "# Filter out 'Resting' zone to show non-resting distribution\n",
        "non_resting_hourly_hr_zone_distribution = hourly_hr_zone_distribution[hourly_hr_zone_distribution['hr_zone'] != 'Resting'].copy()\n",
        "\n",
        "# Chart - 12: Hourly Distribution of Non-Resting Heart Rate Zones (Stacked Bar Chart)\n",
        "plt.figure(figsize=(14, 8))\n",
        "sns.barplot(data=non_resting_hourly_hr_zone_distribution, x='Time_Period', y='percentage', hue='hr_zone', palette='viridis', dodge=False) # dodge=False for stacking\n",
        "plt.title('12. Hourly Distribution of Non-Resting Heart Rate Zones')\n",
        "plt.xlabel('Hour of Day')\n",
        "plt.ylabel('Percentage of Heart Rate Readings')\n",
        "plt.xticks(range(24)) # Ensure all hours are shown on the x-axis\n",
        "plt.grid(axis='y', alpha=0.75)\n",
        "plt.legend(title='HR Zone')\n",
        "plt.show()"
      ],
      "metadata": {
        "id": "pg8k_UKGIiYh"
      },
      "execution_count": null,
      "outputs": []
    },
    {
      "cell_type": "markdown",
      "source": [
        "##### 1. Why did you pick the specific chart?"
      ],
      "metadata": {
        "id": "ylSl6qgtp1ck"
      }
    },
    {
      "cell_type": "markdown",
      "source": [
        "A stacked bar chart is used to visualize the distribution of heart rate readings across different intensity zones (excluding 'Resting') for each hour of the day. Stacking the bars for 'Light', 'Moderate', and 'Vigorous' zones allows us to see the *proportion* of non-resting activity within each hour and how the mix of intensity changes throughout the day. It provides a clear view of when users are most likely to be in elevated heart rate zones.\n"
      ],
      "metadata": {
        "id": "m2xqNkiQp1ck"
      }
    },
    {
      "cell_type": "markdown",
      "source": [
        "##### 2. What is/are the insight(s) found from the chart?"
      ],
      "metadata": {
        "id": "ZWILFDl5p1ck"
      }
    },
    {
      "cell_type": "markdown",
      "source": [
        "1. **Peak Activity Hours:** The stacked bars representing non-resting zones are taller during specific hours, indicating periods when users are most active or exercising. There are likely peaks in the morning (e.g., 8 AM - 10 AM) and in the afternoon/evening (e.g., 4 PM - 7 PM), corresponding to typical commuting or workout times.\n",
        "2. **Dominance of Light Activity:** Within the non-resting zones, the 'Light' activity zone likely constitutes the largest proportion of readings across most hours, suggesting that even during active periods, a significant amount of time is spent in lower intensity.\n",
        "3. **Timing of Higher Intensity:** The 'Moderate' and 'Vigorous' zones are likely more prominent during the peak activity hours mentioned above, confirming these are the times users are engaging in more intense exercise.\n",
        "4. **Low Activity During Sleep/Rest:** Conversely, hours typically associated with sleep (late night/early morning) show very low or no readings in these non-resting zones, as expected.\n"
      ],
      "metadata": {
        "id": "x-lUsV2mp1ck"
      }
    },
    {
      "cell_type": "markdown",
      "source": [
        "##### 3. Will the gained insights help creating a positive business impact?\n",
        "Are there any insights that lead to negative growth? Justify with specific reason."
      ],
      "metadata": {
        "id": "M7G43BXep1ck"
      }
    },
    {
      "cell_type": "markdown",
      "source": [
        "Are there any insights that lead to negative growth? Justify with specific reason.\n",
        "Will the gained insights help creating a positive business impact?\n",
        "Yes, this insight is highly impactful for Bellabeat:\n",
        "1. **Targeted Engagement & Reminders:** Identifying peak and low activity hours allows Bellabeat to send targeted notifications, reminders, or challenges at times users are most likely to be active or when they *should* be more active (e.g., encouraging afternoon walks).\n",
        "2. **Feature Optimization:** Features related to workout tracking, heart rate zone analysis, and activity goals can be optimized based on when users are most likely to use them.\n",
        "3. **Content Scheduling:** Marketing content, tips, or guided workouts can be scheduled to align with peak activity times, maximizing user engagement.\n",
        "4. **Understanding User Behavior:** This deep dive into hourly heart rate distribution helps understand the daily rhythm of user activity, which can inform product design and marketing strategies.\n",
        "\n",
        "Are there any insights that lead to negative growth? Justify with specific reason.\n",
        "The chart itself shows typical daily activity patterns and is not inherently negative. However, potential negative impacts could arise if:\n",
        "1. **Lack of Higher Intensity:** If the 'Moderate' and 'Vigorous' zones consistently represent a very small percentage across all hours, it reiterates the insight from Chart 6 (Very Active Minutes distribution) that many users are not engaging in high-intensity activity. If Bellabeat's marketing emphasizes intense workouts but the data shows users aren't doing them (or the device isn't tracking them accurately), it creates a disconnect and could lead to user dissatisfaction and churn.\n",
        "2. **Inaccurate Zone Classification:** If users feel they are doing an intense workout, but the chart shows their readings are primarily in the 'Light' or 'Resting' zone during that time, they will lose trust in the device's ability to accurately classify their activity intensity. This inaccuracy is a major factor leading to negative growth.\n",
        "3. **Missing Data:** If certain hours show significantly less data collection (empty bars or very low counts), it might indicate users are not wearing their device consistently throughout the day, diminishing the value of 24/7 tracking.\n",
        "\n",
        "Bellabeat must focus on accurate heart rate zone classification across different activities and provide clear, actionable feedback to users based on this data to avoid frustration and build trust."
      ],
      "metadata": {
        "id": "5wwDJXsLp1cl"
      }
    },
    {
      "cell_type": "markdown",
      "source": [
        "#### Chart - 13"
      ],
      "metadata": {
        "id": "Ag9LCva-p1cl"
      }
    },
    {
      "cell_type": "code",
      "source": [
        "# Good sleep mins vs their active mins\n",
        "\n",
        "# Merge the dataframes\n",
        "sleep_activity_merged = pd.merge(sleepDay, dailyActivity,\n",
        "                                 left_on=['Id', 'SleepDay'],\n",
        "                                 right_on=['Id', 'ActivityDay'],\n",
        "                                 how='inner') # Use inner merge to only include days with both sleep and activity data\n",
        "\n",
        "# Calculate average active minutes per sleep quality category\n",
        "avg_active_minutes_by_sleep_quality = sleep_activity_merged.groupby('sleep_quality')['TotalActiveMinutes'].mean().reset_index()\n",
        "\n",
        "# Chart - 13: Average Active Minutes by Sleep Quality\n",
        "plt.figure(figsize=(10, 6))\n",
        "sns.barplot(data=avg_active_minutes_by_sleep_quality.dropna(), x='sleep_quality', y='TotalActiveMinutes', palette='cividis', order=['Poor', 'Good', 'Excellent'])\n",
        "plt.title('13. Average Active Minutes by Sleep Quality')\n",
        "plt.xlabel('Sleep Quality')\n",
        "plt.ylabel('Average Total Active Minutes')\n",
        "plt.grid(axis='y', alpha=0.75)\n",
        "plt.show()"
      ],
      "metadata": {
        "id": "5yFk5U0IKy9O"
      },
      "execution_count": null,
      "outputs": []
    },
    {
      "cell_type": "markdown",
      "source": [
        "##### 1. Why did you pick the specific chart?"
      ],
      "metadata": {
        "id": "E6MkPsBcp1cl"
      }
    },
    {
      "cell_type": "markdown",
      "source": [
        "Answer Here."
      ],
      "metadata": {
        "id": "V22bRsFWp1cl"
      }
    },
    {
      "cell_type": "markdown",
      "source": [
        "##### 2. What is/are the insight(s) found from the chart?"
      ],
      "metadata": {
        "id": "2cELzS2fp1cl"
      }
    },
    {
      "cell_type": "markdown",
      "source": [
        "Answer Here"
      ],
      "metadata": {
        "id": "ozQPc2_Ip1cl"
      }
    },
    {
      "cell_type": "markdown",
      "source": [
        "##### 3. Will the gained insights help creating a positive business impact?\n",
        "Are there any insights that lead to negative growth? Justify with specific reason."
      ],
      "metadata": {
        "id": "3MPXvC8up1cl"
      }
    },
    {
      "cell_type": "markdown",
      "source": [
        "Answer Here"
      ],
      "metadata": {
        "id": "GL8l1tdLp1cl"
      }
    },
    {
      "cell_type": "markdown",
      "source": [
        "#### Chart - 14 - Correlation Heatmap"
      ],
      "metadata": {
        "id": "NC_X3p0fY2L0"
      }
    },
    {
      "cell_type": "code",
      "source": [
        "# Select relevant numerical columns from dailyActivity for correlation\n",
        "correlation_data = dailyActivity[['TotalSteps', 'TotalDistance', 'VeryActiveMinutes',\n",
        "                                   'FairlyActiveMinutes', 'LightlyActiveMinutes', 'SedentaryMinutes',\n",
        "                                   'Calories']]\n",
        "\n",
        "# Calculate average daily heart rate from heartrateSeconds\n",
        "avg_daily_heartrate = heartrateSeconds.groupby('Id')['Value'].mean().reset_index()\n",
        "avg_daily_heartrate.rename(columns={'Value': 'AverageDailyHeartrate'}, inplace=True)\n",
        "\n",
        "# Merge average daily heart rate to dailyActivity\n",
        "correlation_data_merged = pd.merge(dailyActivity, avg_daily_heartrate, on='Id', how='left')\n",
        "\n",
        "# Select the final columns for the correlation heatmap\n",
        "correlation_cols = correlation_data_merged[['TotalSteps', 'TotalDistance', 'VeryActiveMinutes',\n",
        "                                             'FairlyActiveMinutes', 'LightlyActiveMinutes', 'SedentaryMinutes',\n",
        "                                             'Calories', 'AverageDailyHeartrate']]\n",
        "\n",
        "# Calculate the correlation matrix\n",
        "correlation_matrix = correlation_cols.corr()\n",
        "\n",
        "# Chart - 14 Correlation Heatmap\n",
        "plt.figure(figsize=(10, 8))\n",
        "sns.heatmap(correlation_matrix, annot=True, cmap='coolwarm', fmt=\".2f\", linewidths=.5)\n",
        "plt.title('14. Correlation Heatmap of Daily Activity Metrics, Calories, and Average Heartrate')\n",
        "plt.show()"
      ],
      "metadata": {
        "id": "KlPNJH9ZZGLq"
      },
      "execution_count": null,
      "outputs": []
    },
    {
      "cell_type": "markdown",
      "source": [
        "##### 1. Why did you pick the specific chart?"
      ],
      "metadata": {
        "id": "UV0SzAkaZNRQ"
      }
    },
    {
      "cell_type": "markdown",
      "source": [
        "A heatmap is an excellent choice for visualizing the correlation matrix between multiple numerical variables. The color intensity represents the strength of the correlation, and the numerical annotations show the exact correlation coefficient (ranging from -1 to +1). This chart provides a clear, concise overview of how different metrics relate to each other.\n"
      ],
      "metadata": {
        "id": "DVPuT8LYZNRQ"
      }
    },
    {
      "cell_type": "markdown",
      "source": [
        "##### 2. What is/are the insight(s) found from the chart?"
      ],
      "metadata": {
        "id": "YPEH6qLeZNRQ"
      }
    },
    {
      "cell_type": "markdown",
      "source": [
        "1.  **Strong Positive Correlations:** There are strong positive correlations between:\n",
        "    *   `TotalSteps` and `TotalDistance` (as expected, steps contribute directly to distance).\n",
        "    *   `TotalSteps` and `Calories`.\n",
        "    *   `TotalDistance` and `Calories`.\n",
        "    *   `VeryActiveMinutes` and `TotalSteps`/`TotalDistance`/`Calories`.\n",
        "    *   `FairlyActiveMinutes` and `TotalSteps`/`TotalDistance`/`Calories`.\n",
        "    *   `LightlyActiveMinutes` and `TotalSteps`/`TotalDistance`/`Calories` (though potentially weaker than VeryActive and FairlyActive).\n",
        "2.  **Negative Correlation:** `SedentaryMinutes` show a negative correlation with most activity metrics (`TotalSteps`, `TotalDistance`, `ActiveMinutes`, `Calories`), indicating that more sedentary time generally means less activity and fewer calories burned.\n",
        "3.  **Heartrate Correlation:** `AverageDailyHeartrate` shows moderate positive correlations with activity metrics (`TotalSteps`, `TotalDistance`, Active Minutes, `Calories`), suggesting that higher daily activity levels tend to result in a higher average heart rate over the day. The correlation might not be extremely high because the average heart rate includes sedentary periods, but it still indicates a relationship.\n",
        "4.  **Inter-Activity Correlations:** The different \"ActiveMinutes\" categories (`Very`, `Fairly`, `Lightly`) also show some positive correlation among themselves, although the strongest correlations are typically with the overall metrics like Steps, Distance, and Calories.\n"
      ],
      "metadata": {
        "id": "bfSqtnDqZNRR"
      }
    },
    {
      "cell_type": "markdown",
      "source": [
        "#### Chart - 15 - Pair Plot"
      ],
      "metadata": {
        "id": "q29F0dvdveiT"
      }
    },
    {
      "cell_type": "code",
      "source": [
        "# Select a subset of numerical columns for the pair plot to avoid overcrowding\n",
        "pair_plot_cols = dailyActivity[['TotalSteps', 'Calories', 'TotalActiveMinutes', 'SedentaryMinutes']]\n",
        "\n",
        "# Chart - 15 Pair Plot\n",
        "plt.figure(figsize=(12, 10)) # Adjust figure size for better visibility\n",
        "sns.pairplot(pair_plot_cols, diag_kind='kde') # Use kde for diagonal distribution plots\n",
        "plt.suptitle('15. Pair Plot of Selected Daily Activity Metrics', y=1.02) # Add a title to the entire plot\n",
        "plt.show()"
      ],
      "metadata": {
        "id": "mm3W1PqAzgUZ"
      },
      "execution_count": null,
      "outputs": []
    },
    {
      "cell_type": "code",
      "source": [
        "# Cleaniing the updated columns\n",
        "dailyActivity.dropna(subset=['steps_category'], inplace=True)\n",
        "dailyActivity.dropna(subset=['calories_per_step'], inplace=True)\n",
        "sleepDay.dropna(subset=['sleep_quality'], inplace=True)\n",
        "\n"
      ],
      "metadata": {
        "id": "hAftWVI71gXP"
      },
      "execution_count": null,
      "outputs": []
    },
    {
      "cell_type": "code",
      "source": [
        "# # Updated csv files if you want\n",
        "# for name, df in columns.items():\n",
        "#     df.to_csv(f'{name}.csv', index=False)\n",
        "#     files.download(f'{name}.csv')"
      ],
      "metadata": {
        "id": "rx3gwLqX435J"
      },
      "execution_count": null,
      "outputs": []
    },
    {
      "cell_type": "markdown",
      "source": [
        "##### 1. Why did you pick the specific chart?"
      ],
      "metadata": {
        "id": "EXh0U9oCveiU"
      }
    },
    {
      "cell_type": "markdown",
      "source": [
        "A pair plot is chosen to visualize the pairwise relationships between multiple numerical variables. It displays scatter plots for every combination of two variables and histograms for each individual variable along the diagonal. This allows for a quick visual assessment of correlations, distributions, and potential patterns among key metrics like Total Steps, Calories Burned, Average Sleep Duration, and Average Heart Rate.\n"
      ],
      "metadata": {
        "id": "eMmPjTByveiU"
      }
    },
    {
      "cell_type": "markdown",
      "source": [
        "##### 2. What is/are the insight(s) found from the chart?"
      ],
      "metadata": {
        "id": "22aHeOlLveiV"
      }
    },
    {
      "cell_type": "markdown",
      "source": [
        "1. **Steps vs. Calories:** The scatter plot shows a clear positive linear relationship. More steps generally lead to more calories burned, which is a fundamental fitness principle. The histogram for Total Steps shows a right-skewed distribution, and for Calories, a more spread-out distribution.\n",
        "2. **Steps vs. Avg Sleep:** The scatter plot might show little to no strong linear correlation, suggesting that the number of steps taken on a given day doesn't have a simple linear relationship with average sleep duration over the tracking period. The histograms show the distribution of these two metrics.\n",
        "3. **Steps vs. Avg Heartrate:** The scatter plot might show a weak to moderate positive correlation, consistent with the heatmap. More steps *might* slightly increase the average daily heart rate, though other factors like intensity and sedentary time play a role.\n",
        "4. **Calories vs. Avg Sleep:** Similar to steps vs. sleep, there might not be a strong linear correlation between daily calories burned and average sleep duration.\n",
        "5. **Calories vs. Avg Heartrate:** A moderate positive correlation is expected, as higher activity (burning more calories) tends to increase average heart rate.\n",
        "6. **Avg Sleep vs. Avg Heartrate:** The scatter plot might show a weak or no clear linear relationship. However, it's worth noting that *resting* heart rate (not average daily) often improves with better sleep and fitness. This chart shows the average over the whole day.\n"
      ],
      "metadata": {
        "id": "uPQ8RGwHveiV"
      }
    },
    {
      "cell_type": "markdown",
      "source": [
        "## **5. Solution to Business Objective**"
      ],
      "metadata": {
        "id": "JcMwzZxoAimU"
      }
    },
    {
      "cell_type": "markdown",
      "source": [
        "#### What do you suggest the client to achieve Business Objective ?\n",
        "Explain Briefly."
      ],
      "metadata": {
        "id": "8G2x9gOozGDZ"
      }
    },
    {
      "cell_type": "markdown",
      "source": [
        "To increase user activity and app engagement, Bellabeat should:\n",
        "\n",
        "Most users show moderate daily activity.\n",
        "Higher steps directly contribute to higher calorie burn.\n",
        "Users spend more time in light or sedentary activities.\n",
        "\n",
        "**Recommendations:**\n",
        "\n",
        "Launch step-based challenges to improve daily engagement.\n",
        "Encourage users to track daily activity with reminders.\n",
        "Build targeted messaging for low-active users with personalized goals.\n",
        "\n",
        "Users with more active minutes tend to burn more calories.\n",
        "Sleep duration correlates negatively with sedentary time.\n",
        "Peak step counts and heart rate often align during morning and evening hours.\n",
        "\n",
        "Introduce personalized activity goals\n",
        "Provide timely nudges or reminders to move\n",
        "Add gamification features like streaks or badges\n",
        "Leverage user insights to develop tailored wellness plans.\n",
        "\n",
        "Suggest users to sleep and fall under good sleep category and increase active minutes.\n",
        "\n",
        "Improve calories burn for healthy life.\n",
        "\n",
        "Suggest people whose weight is more and tell them to fall under active minutes and reduce time in bed and show them their calories burnt and other people with same weight people burnt calories ."
      ],
      "metadata": {
        "id": "pASKb0qOza21"
      }
    },
    {
      "cell_type": "markdown",
      "source": [
        "# **Conclusion**"
      ],
      "metadata": {
        "id": "gCX9965dhzqZ"
      }
    },
    {
      "cell_type": "markdown",
      "source": [
        "The analysis of Bellabeat user data revealed patterns in physical activity, calorie consumption, and sedentary behavior. Consistent active engagement leads to higher calorie burn and possibly improved health outcomes. However, most users show sedentary trends which indicate a potential area for improvement. People calories are less burnt when they walk, they need to fall under veryactive minutes. Sleep time should increase, it will increase active minutes propotionally."
      ],
      "metadata": {
        "id": "Fjb1IsQkh3yE"
      }
    },
    {
      "cell_type": "markdown",
      "source": [
        "### ***Hurrah! You have successfully completed your EDA Capstone Project !!!***"
      ],
      "metadata": {
        "id": "gIfDvo9L0UH2"
      }
    }
  ]
}